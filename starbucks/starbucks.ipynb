{
 "cells": [
  {
   "attachments": {},
   "cell_type": "markdown",
   "metadata": {},
   "source": [
    "Modelling Starbucks Coffee Time Using Markov Chains"
   ]
  },
  {
   "attachments": {},
   "cell_type": "markdown",
   "metadata": {},
   "source": [
    "Dataset: https://www.kaggle.com/datasets/ashishpatel26/starbucks-menu-nutrition-drinks"
   ]
  },
  {
   "cell_type": "code",
   "execution_count": 1,
   "metadata": {},
   "outputs": [],
   "source": [
    "import pandas as pd \n",
    "import numpy as np \n",
    "import seaborn as sns \n",
    "from scipy import stats\n",
    "import sklearn \n",
    "import matplotlib.pyplot as plt"
   ]
  },
  {
   "cell_type": "code",
   "execution_count": 2,
   "metadata": {},
   "outputs": [
    {
     "data": {
      "text/html": [
       "<div>\n",
       "<style scoped>\n",
       "    .dataframe tbody tr th:only-of-type {\n",
       "        vertical-align: middle;\n",
       "    }\n",
       "\n",
       "    .dataframe tbody tr th {\n",
       "        vertical-align: top;\n",
       "    }\n",
       "\n",
       "    .dataframe thead th {\n",
       "        text-align: right;\n",
       "    }\n",
       "</style>\n",
       "<table border=\"1\" class=\"dataframe\">\n",
       "  <thead>\n",
       "    <tr style=\"text-align: right;\">\n",
       "      <th></th>\n",
       "      <th>Unnamed: 0</th>\n",
       "      <th>Calories</th>\n",
       "      <th>Fat (g)</th>\n",
       "      <th>Carb. (g)</th>\n",
       "      <th>Fiber (g)</th>\n",
       "      <th>Protein</th>\n",
       "      <th>Sodium</th>\n",
       "    </tr>\n",
       "  </thead>\n",
       "  <tbody>\n",
       "    <tr>\n",
       "      <th>0</th>\n",
       "      <td>Cool Lime Starbucks Refreshers™ Beverage</td>\n",
       "      <td>45</td>\n",
       "      <td>0</td>\n",
       "      <td>11</td>\n",
       "      <td>0</td>\n",
       "      <td>0</td>\n",
       "      <td>10</td>\n",
       "    </tr>\n",
       "    <tr>\n",
       "      <th>1</th>\n",
       "      <td>Ombré Pink Drink</td>\n",
       "      <td>-</td>\n",
       "      <td>-</td>\n",
       "      <td>-</td>\n",
       "      <td>-</td>\n",
       "      <td>-</td>\n",
       "      <td>-</td>\n",
       "    </tr>\n",
       "    <tr>\n",
       "      <th>2</th>\n",
       "      <td>Pink Drink</td>\n",
       "      <td>-</td>\n",
       "      <td>-</td>\n",
       "      <td>-</td>\n",
       "      <td>-</td>\n",
       "      <td>-</td>\n",
       "      <td>-</td>\n",
       "    </tr>\n",
       "    <tr>\n",
       "      <th>3</th>\n",
       "      <td>Strawberry Acai Starbucks Refreshers™ Beverage</td>\n",
       "      <td>80</td>\n",
       "      <td>0</td>\n",
       "      <td>18</td>\n",
       "      <td>1</td>\n",
       "      <td>0</td>\n",
       "      <td>10</td>\n",
       "    </tr>\n",
       "    <tr>\n",
       "      <th>4</th>\n",
       "      <td>Very Berry Hibiscus Starbucks Refreshers™ Beve...</td>\n",
       "      <td>60</td>\n",
       "      <td>0</td>\n",
       "      <td>14</td>\n",
       "      <td>1</td>\n",
       "      <td>0</td>\n",
       "      <td>10</td>\n",
       "    </tr>\n",
       "    <tr>\n",
       "      <th>...</th>\n",
       "      <td>...</td>\n",
       "      <td>...</td>\n",
       "      <td>...</td>\n",
       "      <td>...</td>\n",
       "      <td>...</td>\n",
       "      <td>...</td>\n",
       "      <td>...</td>\n",
       "    </tr>\n",
       "    <tr>\n",
       "      <th>172</th>\n",
       "      <td>Chocolate Smoothie</td>\n",
       "      <td>320</td>\n",
       "      <td>5</td>\n",
       "      <td>53</td>\n",
       "      <td>8</td>\n",
       "      <td>20</td>\n",
       "      <td>170</td>\n",
       "    </tr>\n",
       "    <tr>\n",
       "      <th>173</th>\n",
       "      <td>Strawberry Smoothie</td>\n",
       "      <td>300</td>\n",
       "      <td>2</td>\n",
       "      <td>60</td>\n",
       "      <td>7</td>\n",
       "      <td>16</td>\n",
       "      <td>130</td>\n",
       "    </tr>\n",
       "    <tr>\n",
       "      <th>174</th>\n",
       "      <td>Ginger Ale</td>\n",
       "      <td>-</td>\n",
       "      <td>-</td>\n",
       "      <td>-</td>\n",
       "      <td>-</td>\n",
       "      <td>-</td>\n",
       "      <td>-</td>\n",
       "    </tr>\n",
       "    <tr>\n",
       "      <th>175</th>\n",
       "      <td>Lemon Ale</td>\n",
       "      <td>-</td>\n",
       "      <td>-</td>\n",
       "      <td>-</td>\n",
       "      <td>-</td>\n",
       "      <td>-</td>\n",
       "      <td>-</td>\n",
       "    </tr>\n",
       "    <tr>\n",
       "      <th>176</th>\n",
       "      <td>Orange Cream Soda</td>\n",
       "      <td>-</td>\n",
       "      <td>-</td>\n",
       "      <td>-</td>\n",
       "      <td>-</td>\n",
       "      <td>-</td>\n",
       "      <td>-</td>\n",
       "    </tr>\n",
       "  </tbody>\n",
       "</table>\n",
       "<p>177 rows × 7 columns</p>\n",
       "</div>"
      ],
      "text/plain": [
       "                                            Unnamed: 0 Calories Fat (g)   \n",
       "0             Cool Lime Starbucks Refreshers™ Beverage       45       0  \\\n",
       "1                                     Ombré Pink Drink        -       -   \n",
       "2                                           Pink Drink        -       -   \n",
       "3       Strawberry Acai Starbucks Refreshers™ Beverage       80       0   \n",
       "4    Very Berry Hibiscus Starbucks Refreshers™ Beve...       60       0   \n",
       "..                                                 ...      ...     ...   \n",
       "172                                 Chocolate Smoothie      320       5   \n",
       "173                                Strawberry Smoothie      300       2   \n",
       "174                                         Ginger Ale        -       -   \n",
       "175                                          Lemon Ale        -       -   \n",
       "176                                  Orange Cream Soda        -       -   \n",
       "\n",
       "    Carb. (g) Fiber (g) Protein Sodium  \n",
       "0          11         0       0     10  \n",
       "1           -         -       -      -  \n",
       "2           -         -       -      -  \n",
       "3          18         1       0     10  \n",
       "4          14         1       0     10  \n",
       "..        ...       ...     ...    ...  \n",
       "172        53         8      20    170  \n",
       "173        60         7      16    130  \n",
       "174         -         -       -      -  \n",
       "175         -         -       -      -  \n",
       "176         -         -       -      -  \n",
       "\n",
       "[177 rows x 7 columns]"
      ]
     },
     "execution_count": 2,
     "metadata": {},
     "output_type": "execute_result"
    }
   ],
   "source": [
    "pd.read_csv('C:/PROJECTS/Modelling Starbucks coffee time/dataset/starbucks-menu-nutrition-drinks.csv') \n"
   ]
  },
  {
   "cell_type": "code",
   "execution_count": 3,
   "metadata": {},
   "outputs": [
    {
     "data": {
      "text/plain": [
       "array(['Cool Lime Starbucks Refreshers™ Beverage', 'Ombré Pink Drink',\n",
       "       'Pink Drink', 'Strawberry Acai Starbucks Refreshers™ Beverage',\n",
       "       'Very Berry Hibiscus Starbucks Refreshers™ Beverage',\n",
       "       'Violet Drink', 'Evolution Fresh™ Cold-Pressed Apple Berry Juice',\n",
       "       'Evolution Fresh™ Defense Up',\n",
       "       'Evolution Fresh™ Organic Ginger Limeade', 'Iced Coffee',\n",
       "       'Iced Coffee with Milk', 'Iced Espresso Classics - Vanilla Latte',\n",
       "       'Iced Espresso Classics - Caffe Mocha',\n",
       "       'Iced Espresso Classics - Caramel Macchiato',\n",
       "       'Starbucks® Caramel Iced Coffee', 'Starbucks® Iced Coffee + Milk',\n",
       "       'Starbucks® Low Calorie Iced Coffee + Milk',\n",
       "       'Starbucks® Vanilla Iced Coffee', 'Shaken Sweet Tea',\n",
       "       'Tazo® Bottled Berry Blossom White', 'Tazo® Bottled Black Mango',\n",
       "       'Tazo® Bottled Black with Lemon', 'Tazo® Bottled Brambleberry',\n",
       "       'Tazo® Bottled Giant Peach', 'Tazo® Bottled Iced Passion',\n",
       "       'Tazo® Bottled Lemon Ginger',\n",
       "       'Tazo® Bottled Organic Black Lemonade',\n",
       "       'Tazo® Bottled Organic Iced Black Tea',\n",
       "       'Tazo® Bottled Organic Iced Green Tea',\n",
       "       'Tazo® Bottled Plum Pomegranate', 'Tazo® Bottled Tazoberry',\n",
       "       'Tazo® Bottled White Cranberry', 'Teavana® Shaken Iced Black Tea',\n",
       "       'Teavana® Shaken Iced Black Tea Lemonade',\n",
       "       'Teavana® Shaken Iced Green Tea',\n",
       "       'Teavana® Shaken Iced Green Tea Lemonade',\n",
       "       'Teavana® Shaken Iced Passion Tango™ Tea',\n",
       "       'Teavana® Shaken Iced Passion Tango™ Tea Lemonade',\n",
       "       'Teavana® Shaken Iced Peach Green Tea',\n",
       "       'Iced Espresso Classics - Vanilla Latte',\n",
       "       'Iced Espresso Classics - Caffe Mocha',\n",
       "       'Iced Espresso Classics - Caramel Macchiato',\n",
       "       'Iced Espresso Classics - Skinny Caramel Macchiato',\n",
       "       'Iced Espresso Classics - Skinny Vanilla Latte',\n",
       "       'Starbucks Doubleshot® Energy Coffee Drink',\n",
       "       'Starbucks Doubleshot® Energy Mexican Mocha',\n",
       "       'Starbucks Doubleshot® Energy Mocha Drink',\n",
       "       'Starbucks Doubleshot® Energy Vanilla Drink',\n",
       "       'Starbucks Doubleshot® Energy White Chocolate Drink',\n",
       "       'Starbucks Doubleshot® Energy+Cinnamon Dolce Drink',\n",
       "       'Starbucks Doubleshot® Espresso Cubano',\n",
       "       'Starbucks Doubleshot® Espresso Drink',\n",
       "       'Starbucks Doubleshot® Espresso Salted Caramel Cream',\n",
       "       'Starbucks Doubleshot® Light Espresso Drink',\n",
       "       'Starbucks Doubleshot® Protein Caramel',\n",
       "       'Starbucks Refreshers™ Raspberry Pomegranate',\n",
       "       'Starbucks Refreshers™ Strawberry Lemonade',\n",
       "       'Starbucks® Bottled Caramel Frappuccino® Coffee Drink',\n",
       "       'Starbucks® Bottled Coffee Frappuccino® Coffee Drink',\n",
       "       'Starbucks® Bottled Cold Brew Black, Unsweetened',\n",
       "       'Starbucks® Bottled Cold Brew Cocoa and Honey with Cream',\n",
       "       'Starbucks® Bottled Dulce de Leche Frappuccino® Coffee Drink',\n",
       "       'Starbucks® Bottled Mocha Frappuccino® Coffee Drink',\n",
       "       'Starbucks® Bottled Mocha Light Frappuccino® Coffee Drink',\n",
       "       \"Starbucks® Bottled S'mores Frappuccino® Coffee Drink\",\n",
       "       'Starbucks® Bottled Vanilla Frappuccino® Coffee Drink',\n",
       "       'Starbucks® Bottled Vanilla Light Frappuccino® Coffee Drink',\n",
       "       'Starbucks® Caramel Iced Coffee',\n",
       "       'Starbucks® Doubleshot Protein Dark Chocolate',\n",
       "       'Starbucks® Doubleshot Protein Vanilla',\n",
       "       'Starbucks® Iced Coffee + Milk', 'Starbucks® Iced Coffee Caramel',\n",
       "       'Starbucks® Iced Coffee Light Sweetened',\n",
       "       'Starbucks® Iced Coffee Unsweetened',\n",
       "       'Starbucks® Low Calorie Iced Coffee + Milk',\n",
       "       'Starbucks® Refreshers™ - Black Cherry Limeade with Coconut Water',\n",
       "       'Starbucks® Vanilla Iced Coffee',\n",
       "       'Tazo® Bottled Berry Blossom White', 'Tazo® Bottled Black Mango',\n",
       "       'Tazo® Bottled Black with Lemon', 'Tazo® Bottled Brambleberry',\n",
       "       'Tazo® Bottled Giant Peach', 'Tazo® Bottled Iced Passion',\n",
       "       'Tazo® Bottled Lemon Ginger',\n",
       "       'Tazo® Bottled Organic Black Lemonade',\n",
       "       'Tazo® Bottled Organic Iced Black Tea',\n",
       "       'Tazo® Bottled Organic Iced Green Tea',\n",
       "       'Tazo® Bottled Plum Pomegranate', 'Tazo® Bottled Tazoberry',\n",
       "       'Tazo® Bottled White Cranberry', 'Teavana® Mango Black Tea',\n",
       "       'Teavana® Passion Tango® Herbal Tea', 'Teavana® Peach Green Tea',\n",
       "       'White Chocolate Mocha Bottled Frappuccino', 'Blonde Roast',\n",
       "       'Caffè Misto', 'Clover® Brewed Coffee', 'Coffee Traveler',\n",
       "       'Decaf Pike Place® Roast', 'Featured Dark Roast', 'Iced Coffee',\n",
       "       'Iced Coffee with Milk', 'Nariño 70 Cold Brew',\n",
       "       'Nariño 70 Cold Brew with Milk', 'Nitro Cold Brew',\n",
       "       'Nitro Cold Brew with Sweet Cream', 'Pike Place® Roast',\n",
       "       'Toasted Coconut Cold Brew', 'Vanilla Sweet Cream Cold Brew',\n",
       "       'Hot Chocolate', 'Starbucks® Signature Hot Chocolate',\n",
       "       'Caffè Americano', 'Caffè Latte', 'Caffè Mocha', 'Cappuccino',\n",
       "       'Caramel Macchiato', 'Cascara Coconutmilk Latte',\n",
       "       'Cinnamon Dolce Latte', 'Coconutmilk Mocha Macchiato', 'Espresso',\n",
       "       'Espresso Con Panna', 'Espresso Macchiato', 'Flat White',\n",
       "       'Iced Caffè Americano', 'Iced Caffè Latte', 'Iced Caffè Mocha',\n",
       "       'Iced Caramel Macchiato', 'Iced Cascara Coconutmilk Latte',\n",
       "       'Iced Cinnamon Dolce Latte', 'Iced Coconutmilk Mocha Macchiato',\n",
       "       'Iced Skinny Cinnamon Dolce Latte', 'Iced Skinny Mocha',\n",
       "       'Iced Vanilla Latte', 'Iced White Chocolate Mocha',\n",
       "       'Latte Macchiato', 'Latte Macchiato', 'Skinny Mocha',\n",
       "       'Starbucks Doubleshot® on Ice Beverage', 'Vanilla Latte',\n",
       "       'White Chocolate Mocha',\n",
       "       'Caffè Vanilla Frappuccino® Blended Coffee',\n",
       "       'Caffè Vanilla Light Frappuccino® Blended Coffee',\n",
       "       'Caramel Cocoa Cluster Frappuccino® Blended Coffee',\n",
       "       'Caramel Frappuccino® Blended Coffee',\n",
       "       'Caramel Light Frappuccino® Blended Coffee',\n",
       "       'Chai Crème Frappuccino® Blended Crème',\n",
       "       'Cinnamon Dolce Frappuccino® Blended Coffee',\n",
       "       'Cinnamon Dolce Light Frappuccino® Blended Coffee',\n",
       "       'Cinnamon Roll Frappuccino® Blended Coffee',\n",
       "       'Coffee Frappuccino® Blended Coffee',\n",
       "       'Coffee Light Frappuccino® Blended Coffee',\n",
       "       'Cupcake Crème Frappuccino® Blended Crème',\n",
       "       'Green Tea Crème Frappuccino® Blended Crème',\n",
       "       'Java Chip Frappuccino® Blended Coffee',\n",
       "       'Java Chip Light Frappuccino® Blended Coffee',\n",
       "       'Lemon Bar Crème Frappuccino® Blended Crème',\n",
       "       'Midnight Mint Mocha Frappuccino® Blended Coffee',\n",
       "       'Midnight Mint Mocha Frappuccino® Blended Crème',\n",
       "       'Mocha Frappuccino® Blended Coffee',\n",
       "       'Mocha Light Frappuccino® Blended Coffee',\n",
       "       'Oprah Cinnamon Chai Crème Frappuccino® Blended Crème',\n",
       "       'Red Velvet Cake Crème Frappuccino® Blended Crème',\n",
       "       \"S'mores Frappuccino® Blended Coffee\",\n",
       "       \"S'mores Frappuccino® Blended Crème\",\n",
       "       'Strawberries & Crème Frappuccino® Blended Crème',\n",
       "       'The Pokémon™ GO Frappuccino® Blended Beverage',\n",
       "       'Vanilla Bean Crème Frappuccino® Blended Crème',\n",
       "       'White Chocolate Mocha Frappuccino® Blended Coffee',\n",
       "       'Cinnamon Dolce Crème', 'Organic Chocolate Milk Box',\n",
       "       'Steamed Apple Juice', 'Vanilla Crème', 'Chocolate Smoothie',\n",
       "       'Strawberry Smoothie', 'Ginger Ale', 'Lemon Ale',\n",
       "       'Orange Cream Soda'], dtype=object)"
      ]
     },
     "execution_count": 3,
     "metadata": {},
     "output_type": "execute_result"
    }
   ],
   "source": [
    "kind_of_coffee = np.array(pd.read_csv('C:/PROJECTS/Modelling Starbucks coffee time/dataset/starbucks-menu-nutrition-drinks.csv') ['Unnamed: 0'])\n",
    "p_start = []\n",
    "for i in range(len(kind_of_coffee)):\n",
    "    p_start.append(np.random.choice(np.arange(50,100)))\n",
    "p_start = np.array(np.array(list(np.array(p_start)/sum(p_start)))) \n",
    "\n",
    "kind_of_coffee"
   ]
  },
  {
   "cell_type": "code",
   "execution_count": 4,
   "metadata": {},
   "outputs": [
    {
     "data": {
      "text/plain": [
       "<seaborn.axisgrid.FacetGrid at 0x19b55411190>"
      ]
     },
     "execution_count": 4,
     "metadata": {},
     "output_type": "execute_result"
    },
    {
     "data": {
      "image/png": "[encoded data removed]",
      "text/plain": [
       "<Figure size 500x500 with 1 Axes>"
      ]
     },
     "metadata": {},
     "output_type": "display_data"
    }
   ],
   "source": [
    "coffe_picked = []\n",
    "for i in range(10000):\n",
    "    coffe_picked.append(np.random.choice(range(0,len(kind_of_coffee)),p=p_start))\n",
    "sns.displot(coffe_picked)"
   ]
  },
  {
   "cell_type": "code",
   "execution_count": 5,
   "metadata": {},
   "outputs": [
    {
     "data": {
      "text/html": [
       "<div>\n",
       "<style scoped>\n",
       "    .dataframe tbody tr th:only-of-type {\n",
       "        vertical-align: middle;\n",
       "    }\n",
       "\n",
       "    .dataframe tbody tr th {\n",
       "        vertical-align: top;\n",
       "    }\n",
       "\n",
       "    .dataframe thead th {\n",
       "        text-align: right;\n",
       "    }\n",
       "</style>\n",
       "<table border=\"1\" class=\"dataframe\">\n",
       "  <thead>\n",
       "    <tr style=\"text-align: right;\">\n",
       "      <th></th>\n",
       "      <th>State 1</th>\n",
       "      <th>$\\mu$</th>\n",
       "      <th>$\\sigma$</th>\n",
       "      <th>$p$</th>\n",
       "    </tr>\n",
       "  </thead>\n",
       "  <tbody>\n",
       "    <tr>\n",
       "      <th>0</th>\n",
       "      <td>Cool Lime Starbucks Refreshers™ Beverage</td>\n",
       "      <td>4.111111</td>\n",
       "      <td>0.329830</td>\n",
       "      <td>0.006880</td>\n",
       "    </tr>\n",
       "    <tr>\n",
       "      <th>1</th>\n",
       "      <td>Ombré Pink Drink</td>\n",
       "      <td>3.456456</td>\n",
       "      <td>0.441942</td>\n",
       "      <td>0.005962</td>\n",
       "    </tr>\n",
       "    <tr>\n",
       "      <th>2</th>\n",
       "      <td>Pink Drink</td>\n",
       "      <td>4.183183</td>\n",
       "      <td>0.517618</td>\n",
       "      <td>0.006192</td>\n",
       "    </tr>\n",
       "    <tr>\n",
       "      <th>3</th>\n",
       "      <td>Strawberry Acai Starbucks Refreshers™ Beverage</td>\n",
       "      <td>4.420420</td>\n",
       "      <td>0.427928</td>\n",
       "      <td>0.004816</td>\n",
       "    </tr>\n",
       "    <tr>\n",
       "      <th>4</th>\n",
       "      <td>Very Berry Hibiscus Starbucks Refreshers™ Beve...</td>\n",
       "      <td>5.783784</td>\n",
       "      <td>0.856757</td>\n",
       "      <td>0.004969</td>\n",
       "    </tr>\n",
       "  </tbody>\n",
       "</table>\n",
       "</div>"
      ],
      "text/plain": [
       "                                             State 1     $\\mu$  $\\sigma$   \n",
       "0           Cool Lime Starbucks Refreshers™ Beverage  4.111111  0.329830  \\\n",
       "1                                   Ombré Pink Drink  3.456456  0.441942   \n",
       "2                                         Pink Drink  4.183183  0.517618   \n",
       "3     Strawberry Acai Starbucks Refreshers™ Beverage  4.420420  0.427928   \n",
       "4  Very Berry Hibiscus Starbucks Refreshers™ Beve...  5.783784  0.856757   \n",
       "\n",
       "        $p$  \n",
       "0  0.006880  \n",
       "1  0.005962  \n",
       "2  0.006192  \n",
       "3  0.004816  \n",
       "4  0.004969  "
      ]
     },
     "execution_count": 5,
     "metadata": {},
     "output_type": "execute_result"
    }
   ],
   "source": [
    "coffee_data = pd.DataFrame(kind_of_coffee,columns=['State 1'])\n",
    "mu_list = []\n",
    "var_list = []\n",
    "for i in range(len(coffee_data)):\n",
    "    mu_list.append(np.random.choice(np.linspace(3,6,1000)))\n",
    "    var_list.append(np.random.choice(np.linspace(0.1,1.5,1000)))\n",
    "coffee_data[r'$\\mu$']=mu_list\n",
    "coffee_data[r'$\\sigma$']=var_list\n",
    "coffee_data[r'$p$'] = p_start\n",
    "coffee_data.head()"
   ]
  },
  {
   "cell_type": "code",
   "execution_count": 6,
   "metadata": {},
   "outputs": [],
   "source": [
    "customer_state = ['Ordering the coffee','Waiting for your coffee','Leaving']\n",
    "states = {'O':customer_state[0],'M':customer_state[1],'L':customer_state[2]}"
   ]
  },
  {
   "attachments": {},
   "cell_type": "markdown",
   "metadata": {},
   "source": [
    "One Customer One Drink "
   ]
  },
  {
   "cell_type": "code",
   "execution_count": 7,
   "metadata": {},
   "outputs": [],
   "source": [
    "mu, sigma = 5,1\n",
    "def one_drink_one_cust():\n",
    "    start = states['O']\n",
    "    print(start+'\\n')\n",
    "    ordering_time = 0.5\n",
    "    first_state = states['M']\n",
    "    print(first_state+'\\n')\n",
    "    waiting_time = 0\n",
    "    k = 0\n",
    "    while k == 0:\n",
    "        p = stats.norm.cdf(waiting_time, loc=mu, scale=sigma)\n",
    "        k = np.random.choice([0,1],p = [1-p,p])\n",
    "        waiting_time = waiting_time+0.5\n",
    "        if k == 0:\n",
    "            print('Coffee is brewing... \\n')\n",
    "    print('Your coffee is ready! \\n')\n",
    "    print(states['L']+'\\n')\n",
    "    print('Waiting time is = %.2f'%(waiting_time))\n",
    "    return waiting_time"
   ]
  },
  {
   "cell_type": "code",
   "execution_count": 8,
   "metadata": {},
   "outputs": [
    {
     "name": "stdout",
     "output_type": "stream",
     "text": [
      "Ordering the coffee\n",
      "\n",
      "Waiting for your coffee\n",
      "\n",
      "Coffee is brewing... \n",
      "\n",
      "Coffee is brewing... \n",
      "\n",
      "Coffee is brewing... \n",
      "\n",
      "Coffee is brewing... \n",
      "\n",
      "Coffee is brewing... \n",
      "\n",
      "Coffee is brewing... \n",
      "\n",
      "Coffee is brewing... \n",
      "\n",
      "Coffee is brewing... \n",
      "\n",
      "Coffee is brewing... \n",
      "\n",
      "Coffee is brewing... \n",
      "\n",
      "Your coffee is ready! \n",
      "\n",
      "Leaving\n",
      "\n",
      "Waiting time is = 5.50\n"
     ]
    },
    {
     "data": {
      "text/plain": [
       "5.5"
      ]
     },
     "execution_count": 8,
     "metadata": {},
     "output_type": "execute_result"
    }
   ],
   "source": [
    "one_drink_one_cust()"
   ]
  },
  {
   "attachments": {},
   "cell_type": "markdown",
   "metadata": {},
   "source": [
    "One  Customer Multiple Drinks"
   ]
  },
  {
   "cell_type": "code",
   "execution_count": 9,
   "metadata": {},
   "outputs": [
    {
     "name": "stdout",
     "output_type": "stream",
     "text": [
      "Ordering the coffee\n",
      "\n",
      "Ordering coffee Iced Cinnamon Dolce Latte\n",
      "Waiting for your coffee\n",
      "\n",
      "Your coffee is ready! \n",
      "\n",
      "Leaving\n",
      "\n"
     ]
    },
    {
     "data": {
      "text/plain": [
       "6.5"
      ]
     },
     "execution_count": 9,
     "metadata": {},
     "output_type": "execute_result"
    }
   ],
   "source": [
    "def random_drink_one_cust():\n",
    "    start = states['O']\n",
    "    print(start+'\\n')\n",
    "    ordering_time = 0.5\n",
    "    first_state = states['M']\n",
    "    chosen_i = np.random.choice(range(0,len(kind_of_coffee)),p=p_start)\n",
    "    print('Ordering coffee %s'%(kind_of_coffee[chosen_i]))\n",
    "    print(first_state+'\\n')\n",
    "\n",
    "\n",
    "    mu_i, var_i = coffee_data[r'$\\mu$'].loc[chosen_i], coffee_data[r'$\\sigma$'].loc[chosen_i]\n",
    "    waiting_time = 0\n",
    "    k = 0\n",
    "    while k == 0:\n",
    "        p = stats.norm.cdf(waiting_time, loc=mu_i, scale=var_i)\n",
    "        k = np.random.choice([0,1],p = [1-p,p])\n",
    "        waiting_time = waiting_time+0.5\n",
    "    print('Your coffee is ready! \\n')\n",
    "    print(states['L']+'\\n')\n",
    "    #print('Waiting time is = %.2f'%(waiting_time))\n",
    "    return waiting_time\n",
    "random_drink_one_cust()"
   ]
  },
  {
   "cell_type": "code",
   "execution_count": 10,
   "metadata": {},
   "outputs": [
    {
     "data": {
      "text/plain": [
       "5.0"
      ]
     },
     "execution_count": 10,
     "metadata": {},
     "output_type": "execute_result"
    }
   ],
   "source": [
    "def random_drink_one_cust():\n",
    "    start = states['O']\n",
    "    ordering_time = 0.5\n",
    "    first_state = states['M']\n",
    "    chosen_i = np.random.choice(range(0,len(kind_of_coffee)),p=p_start)\n",
    "    mu_i, var_i = coffee_data[r'$\\mu$'].loc[chosen_i], coffee_data[r'$\\sigma$'].loc[chosen_i]\n",
    "    waiting_time = 0\n",
    "    k = 0\n",
    "    while k == 0:\n",
    "        p = stats.norm.cdf(waiting_time, loc=mu_i, scale=var_i)\n",
    "        k = np.random.choice([0,1],p = [1-p,p])\n",
    "        waiting_time = waiting_time+0.5\n",
    "    return waiting_time \n",
    "random_drink_one_cust()"
   ]
  },
  {
   "attachments": {},
   "cell_type": "markdown",
   "metadata": {},
   "source": [
    "Waiting Time"
   ]
  },
  {
   "cell_type": "code",
   "execution_count": 11,
   "metadata": {},
   "outputs": [
    {
     "data": {
      "text/plain": [
       "Text(0, 0.5, 'Probability Density Function (PDF)')"
      ]
     },
     "execution_count": 11,
     "metadata": {},
     "output_type": "execute_result"
    },
    {
     "data": {
      "image/png": "[encoded data removed]",
      "text/plain": [
       "<Figure size 2000x1000 with 2 Axes>"
      ]
     },
     "metadata": {},
     "output_type": "display_data"
    }
   ],
   "source": [
    "waiting_time_list = []\n",
    "for i in range(10000):\n",
    "    waiting_time_list.append(random_drink_one_cust())\n",
    "plt.figure(figsize=(20,10))\n",
    "plt.subplot(2,1,1)\n",
    "sns.histplot(waiting_time_list,fill=True)\n",
    "plt.xticks(fontsize=14)\n",
    "plt.yticks(fontsize=14)\n",
    "plt.xlabel('Waiting time (minutes)',fontsize=14)\n",
    "plt.ylabel('Count',fontsize=14)\n",
    "plt.subplot(2,1,2)\n",
    "sns.kdeplot(waiting_time_list,fill=True)\n",
    "plt.xticks(fontsize=14)\n",
    "plt.yticks(fontsize=14)\n",
    "plt.xlabel('Waiting time (minutes)',fontsize=14)\n",
    "plt.ylabel('Probability Density Function (PDF)',fontsize=14)"
   ]
  },
  {
   "attachments": {},
   "cell_type": "markdown",
   "metadata": {},
   "source": [
    "Multiple Customers Multiple Drinks"
   ]
  },
  {
   "cell_type": "code",
   "execution_count": 12,
   "metadata": {},
   "outputs": [],
   "source": [
    "def random_drink_multiple_cust(cust=2,num_baristas =5):\n",
    "    time_of_process = []\n",
    "    baristas = np.zeros(num_baristas)\n",
    "    q = 0\n",
    "    ordering_time = 0\n",
    "    for c in range(cust):\n",
    "        start = states['O']\n",
    "        print('Customer number %i is ordering'%(c))\n",
    "        ordering_time+=0.5\n",
    "        if sum(baristas)!=num_baristas:\n",
    "            print('There is at least one free baristas! :)')\n",
    "            waiting_time = random_drink_one_cust()\n",
    "            time_of_process.append(waiting_time+ordering_time)\n",
    "            baristas[q] = 1\n",
    "            q = q + 1 \n",
    "        if len(time_of_process)==cust:\n",
    "            break\n",
    "        if sum(baristas)==num_baristas:\n",
    "            print('All the baristas are busy :(')\n",
    "            print('You have to wait an additional %i minutes until they can start making your coffee' %(min(time_of_process)))\n",
    "            waiting_time = min(time_of_process)+random_drink_one_cust()+ordering_time\n",
    "            baristas[num_baristas-1]=0\n",
    "            time_of_process.append(waiting_time)\n",
    "            q = q-1\n",
    "        if len(time_of_process)==cust:\n",
    "            break\n",
    "    print('The waiting time for each customer is:')\n",
    "    print(time_of_process)\n",
    "    return time_of_process"
   ]
  },
  {
   "cell_type": "code",
   "execution_count": 13,
   "metadata": {},
   "outputs": [
    {
     "name": "stdout",
     "output_type": "stream",
     "text": [
      "Customer number 0 is ordering\n",
      "There is at least one free baristas! :)\n",
      "Customer number 1 is ordering\n",
      "There is at least one free baristas! :)\n",
      "Customer number 2 is ordering\n",
      "There is at least one free baristas! :)\n",
      "Customer number 3 is ordering\n",
      "There is at least one free baristas! :)\n",
      "Customer number 4 is ordering\n",
      "There is at least one free baristas! :)\n",
      "All the baristas are busy :(\n",
      "You have to wait an additional 5 minutes until they can start making your coffee\n",
      "Customer number 5 is ordering\n",
      "There is at least one free baristas! :)\n",
      "All the baristas are busy :(\n",
      "You have to wait an additional 5 minutes until they can start making your coffee\n",
      "Customer number 6 is ordering\n",
      "There is at least one free baristas! :)\n",
      "All the baristas are busy :(\n",
      "You have to wait an additional 5 minutes until they can start making your coffee\n",
      "The waiting time for each customer is:\n",
      "[5.5, 7.0, 7.5, 9.0, 8.0, 12.0, 9.0, 11.0, 7.5, 15.5]\n"
     ]
    },
    {
     "data": {
      "text/plain": [
       "[5.5, 7.0, 7.5, 9.0, 8.0, 12.0, 9.0, 11.0, 7.5, 15.5]"
      ]
     },
     "execution_count": 13,
     "metadata": {},
     "output_type": "execute_result"
    }
   ],
   "source": [
    "random_drink_multiple_cust(10,5)"
   ]
  },
  {
   "cell_type": "code",
   "execution_count": null,
   "metadata": {},
   "outputs": [],
   "source": []
  }
 ],
 "metadata": {
  "kernelspec": {
   "display_name": "Python 3",
   "language": "python",
   "name": "python3"
  },
  "language_info": {
   "codemirror_mode": {
    "name": "ipython",
    "version": 3
   },
   "file_extension": ".py",
   "mimetype": "text/x-python",
   "name": "python",
   "nbconvert_exporter": "python",
   "pygments_lexer": "ipython3",
   "version": "3.11.3"
  },
  "orig_nbformat": 4
 },
 "nbformat": 4,
 "nbformat_minor": 2
}
